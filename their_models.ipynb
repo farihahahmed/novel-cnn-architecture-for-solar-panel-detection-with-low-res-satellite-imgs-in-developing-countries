{
 "cells": [
  {
   "cell_type": "code",
   "execution_count": 3,
   "metadata": {},
   "outputs": [
    {
     "name": "stdout",
     "output_type": "stream",
     "text": [
      "Old checkpoint loaded: /Users/farihahahmed/Documents/deepsolar/deepsolar_pretrained.pth\n"
     ]
    },
    {
     "name": "stderr",
     "output_type": "stream",
     "text": [
      "100%|██████████| 20/20 [00:52<00:00,  2.63s/it]"
     ]
    },
    {
     "name": "stdout",
     "output_type": "stream",
     "text": [
      "metric value: 0.5147058982122256\n",
      "precision: 1.0\n",
      "recall: 0.0294\n",
      "f1: 0.0571\n",
      "accuracy: 0.5147\n"
     ]
    },
    {
     "name": "stderr",
     "output_type": "stream",
     "text": [
      "\n"
     ]
    }
   ],
   "source": [
    "from __future__ import print_function\n",
    "from __future__ import division\n",
    "import torch\n",
    "import torch.nn as nn\n",
    "import torch.optim as optim\n",
    "from torch.utils.data import Dataset, DataLoader\n",
    "import torchvision\n",
    "from torchvision import datasets, models, transforms, utils\n",
    "import torchvision.transforms.functional as TF\n",
    "\n",
    "from tqdm import tqdm\n",
    "import numpy as np\n",
    "import json\n",
    "import pandas as pd\n",
    "import pickle\n",
    "import matplotlib.pyplot as plt\n",
    "import skimage\n",
    "import skimage.io\n",
    "import skimage.transform\n",
    "from PIL import Image\n",
    "import time\n",
    "import os\n",
    "from os.path import join, exists\n",
    "import copy\n",
    "import random\n",
    "from collections import OrderedDict\n",
    "from sklearn.metrics import r2_score\n",
    "\n",
    "from torch.nn import functional as F\n",
    "from torchvision.models import Inception3\n",
    "\n",
    "# Configuration\n",
    "# directory for loading training/validation/test data\n",
    "data_dir = '/Users/farihahahmed/Documents/deepsolar/test'\n",
    "old_ckpt_path = '/Users/farihahahmed/Documents/deepsolar/deepsolar_pretrained.pth'\n",
    "\n",
    "device = torch.device(\"cuda:0\" if torch.cuda.is_available() else \"cpu\")\n",
    "input_size = 299\n",
    "batch_size = 32\n",
    "threshold = 0.2  # threshold probability to identify am image as positive\n",
    "\n",
    "def metrics(stats):\n",
    "    \"\"\"stats: {'TP': TP, 'FP': FP, 'TN': TN, 'FN': FN}\n",
    "    return: must be a single number \"\"\"\n",
    "    precision = (stats['TP'] + 0.00001) * 1.0 / (stats['TP'] + stats['FP'] + 0.00001)\n",
    "    recall = (stats['TP'] + 0.00001) * 1.0 / (stats['TP'] + stats['FN'] + 0.00001)\n",
    "    return 0.5*(precision + recall)\n",
    "\n",
    "\n",
    "def test_model(model, dataloader, metrics, threshold):\n",
    "    stats = {'TP': 0, 'FP': 0, 'TN': 0, 'FN': 0}\n",
    "    model.eval()\n",
    "    for inputs, labels in tqdm(dataloader):\n",
    "        inputs = inputs.to(device)\n",
    "        labels = labels.to(device)\n",
    "        with torch.set_grad_enabled(False):\n",
    "            outputs = model(inputs)\n",
    "            prob = F.softmax(outputs, dim=1)\n",
    "            preds = prob[:, 1] >= threshold\n",
    "\n",
    "        stats['TP'] += torch.sum((preds == 1) * (labels == 1)).cpu().item()\n",
    "        stats['TN'] += torch.sum((preds == 0) * (labels == 0)).cpu().item()\n",
    "        stats['FP'] += torch.sum((preds == 1) * (labels == 0)).cpu().item()\n",
    "        stats['FN'] += torch.sum((preds == 0) * (labels == 1)).cpu().item()\n",
    "\n",
    "    metric_value = metrics(stats)\n",
    "    return stats, metric_value\n",
    "\n",
    "transform_test = transforms.Compose([\n",
    "                 transforms.Resize(input_size),\n",
    "                 transforms.ToTensor(),\n",
    "                 transforms.Normalize([0.5, 0.5, 0.5], [0.5, 0.5, 0.5])\n",
    "                 ])\n",
    "\n",
    "if __name__ == '__main__':\n",
    "    # data\n",
    "    dataset_test = datasets.ImageFolder(data_dir, transform_test)\n",
    "    dataloader_test = DataLoader(dataset_test, batch_size=batch_size, shuffle=True, num_workers=4)\n",
    "    # model\n",
    "    model = Inception3(num_classes=2, aux_logits=True, transform_input=False)\n",
    "    model = model.to(device)\n",
    "    # load old parameters\n",
    "    checkpoint = torch.load(old_ckpt_path, map_location=device)\n",
    "    if old_ckpt_path[-4:] == '.tar':  # it is a checkpoint dictionary rather than just model parameters\n",
    "        model.load_state_dict(checkpoint['model_state_dict'])\n",
    "    else:\n",
    "        model.load_state_dict(checkpoint)\n",
    "    print('Old checkpoint loaded: ' + old_ckpt_path)\n",
    "    stats, metric_value = test_model(model, dataloader_test, metrics, threshold=threshold)\n",
    "    precision = (stats['TP'] + 0.00001) * 1.0 / (stats['TP'] + stats['FP'] + 0.00001)\n",
    "    recall = (stats['TP'] + 0.00001) * 1.0 / (stats['TP'] + stats['FN'] + 0.00001)\n",
    "    accuracy = ((stats['TP'] + stats['TN']) / (stats['TP'] + stats['TN'] + stats['FP'] + stats['FN']))\n",
    "    f1 = 2 * (precision * recall) / (precision + recall)\n",
    "    print('metric value: '+str(metric_value))\n",
    "    print('precision: ' + str(round(precision, 4)))\n",
    "    print('recall: ' + str(round(recall, 4)))\n",
    "    print('f1: ' + str(round(f1, 4)))\n",
    "    print('accuracy: ' + str(round(accuracy, 4)))"
   ]
  },
  {
   "cell_type": "code",
   "execution_count": 2,
   "metadata": {},
   "outputs": [
    {
     "name": "stdout",
     "output_type": "stream",
     "text": [
      "Old checkpoint loaded: /Users/farihahahmed/Documents/deepsolar/deepsolar_pretrained.pth\n"
     ]
    },
    {
     "name": "stderr",
     "output_type": "stream",
     "text": [
      "100%|██████████| 7/7 [00:19<00:00,  2.72s/it]"
     ]
    },
    {
     "name": "stdout",
     "output_type": "stream",
     "text": [
      "metric value: 0.6536842494515185\n",
      "precision: 0.9474\n",
      "recall: 0.36\n",
      "f1: 0.5217\n",
      "accuracy: 0.67\n"
     ]
    },
    {
     "name": "stderr",
     "output_type": "stream",
     "text": [
      "\n"
     ]
    }
   ],
   "source": [
    "# Configuration\n",
    "# directory for loading training/validation/test data\n",
    "data_dir = '/Users/farihahahmed/Documents/deepsolar/test_ds'\n",
    "old_ckpt_path = '/Users/farihahahmed/Documents/deepsolar/deepsolar_pretrained.pth'\n",
    "\n",
    "device = torch.device(\"cuda:0\" if torch.cuda.is_available() else \"cpu\")\n",
    "input_size = 299\n",
    "batch_size = 32\n",
    "threshold = 0.2  # threshold probability to identify am image as positive\n",
    "\n",
    "def metrics(stats):\n",
    "    \"\"\"stats: {'TP': TP, 'FP': FP, 'TN': TN, 'FN': FN}\n",
    "    return: must be a single number \"\"\"\n",
    "    precision = (stats['TP'] + 0.00001) * 1.0 / (stats['TP'] + stats['FP'] + 0.00001)\n",
    "    recall = (stats['TP'] + 0.00001) * 1.0 / (stats['TP'] + stats['FN'] + 0.00001)\n",
    "    return 0.5*(precision + recall)\n",
    "\n",
    "\n",
    "def test_model(model, dataloader, metrics, threshold):\n",
    "    stats = {'TP': 0, 'FP': 0, 'TN': 0, 'FN': 0}\n",
    "    model.eval()\n",
    "    for inputs, labels in tqdm(dataloader):\n",
    "        inputs = inputs.to(device)\n",
    "        labels = labels.to(device)\n",
    "        with torch.set_grad_enabled(False):\n",
    "            outputs = model(inputs)\n",
    "            prob = F.softmax(outputs, dim=1)\n",
    "            preds = prob[:, 1] >= threshold\n",
    "\n",
    "        stats['TP'] += torch.sum((preds == 1) * (labels == 1)).cpu().item()\n",
    "        stats['TN'] += torch.sum((preds == 0) * (labels == 0)).cpu().item()\n",
    "        stats['FP'] += torch.sum((preds == 1) * (labels == 0)).cpu().item()\n",
    "        stats['FN'] += torch.sum((preds == 0) * (labels == 1)).cpu().item()\n",
    "\n",
    "    metric_value = metrics(stats)\n",
    "    return stats, metric_value\n",
    "\n",
    "transform_test = transforms.Compose([\n",
    "                 transforms.Resize(input_size),\n",
    "                 transforms.ToTensor(),\n",
    "                 transforms.Normalize([0.5, 0.5, 0.5], [0.5, 0.5, 0.5])\n",
    "                 ])\n",
    "\n",
    "if __name__ == '__main__':\n",
    "    # data\n",
    "    dataset_test = datasets.ImageFolder(data_dir, transform_test)\n",
    "    dataloader_test = DataLoader(dataset_test, batch_size=batch_size, shuffle=True, num_workers=4)\n",
    "    # model\n",
    "    model = Inception3(num_classes=2, aux_logits=True, transform_input=False)\n",
    "    model = model.to(device)\n",
    "    # load old parameters\n",
    "    checkpoint = torch.load(old_ckpt_path, map_location=device)\n",
    "    if old_ckpt_path[-4:] == '.tar':  # it is a checkpoint dictionary rather than just model parameters\n",
    "        model.load_state_dict(checkpoint['model_state_dict'])\n",
    "    else:\n",
    "        model.load_state_dict(checkpoint)\n",
    "    print('Old checkpoint loaded: ' + old_ckpt_path)\n",
    "    stats, metric_value = test_model(model, dataloader_test, metrics, threshold=threshold)\n",
    "    precision = (stats['TP'] + 0.00001) * 1.0 / (stats['TP'] + stats['FP'] + 0.00001)\n",
    "    recall = (stats['TP'] + 0.00001) * 1.0 / (stats['TP'] + stats['FN'] + 0.00001)\n",
    "    accuracy = ((stats['TP'] + stats['TN']) / (stats['TP'] + stats['TN'] + stats['FP'] + stats['FN']))\n",
    "    f1 = 2 * (precision * recall) / (precision + recall)\n",
    "    print('metric value: '+str(metric_value))\n",
    "    print('precision: ' + str(round(precision, 4)))\n",
    "    print('recall: ' + str(round(recall, 4)))\n",
    "    print('f1: ' + str(round(f1, 4)))\n",
    "    print('accuracy: ' + str(round(accuracy, 4)))"
   ]
  }
 ],
 "metadata": {
  "kernelspec": {
   "display_name": "Python 3.10.4 ('my_deepsolar')",
   "language": "python",
   "name": "python3"
  },
  "language_info": {
   "codemirror_mode": {
    "name": "ipython",
    "version": 3
   },
   "file_extension": ".py",
   "mimetype": "text/x-python",
   "name": "python",
   "nbconvert_exporter": "python",
   "pygments_lexer": "ipython3",
   "version": "3.7.13"
  },
  "orig_nbformat": 4,
  "vscode": {
   "interpreter": {
    "hash": "f7265d26846cc5a0737d820d3c0ba1efbd81ac84b7d1fd8268d58a84e5006b3c"
   }
  }
 },
 "nbformat": 4,
 "nbformat_minor": 2
}
